{
 "cells": [
  {
   "cell_type": "markdown",
   "metadata": {},
   "source": [
    "# Homework 1 Part 2\n",
    "\n",
    "\n",
    "This is an individual assignment."
   ]
  },
  {
   "cell_type": "markdown",
   "metadata": {},
   "source": [
    "## Description\n",
    "\n",
    "Create or edit this Jupyter Notebook to answer the questions below. Use simulations to answer these questions. An analytical solution can be useful to check if your simulation is correct but analytical solutions alone will not be accepted as a solution to a problem."
   ]
  },
  {
   "cell_type": "markdown",
   "metadata": {},
   "source": [
    "## Problem 1\n",
    "\n",
    "Consider repeatedly rolling a fair 4-sided die.\n",
    "\n",
    "1. Create a simulation to compute the probability that the top face will be 4 at least once on four rolls of the die?\n",
    "2. Create a simulation to compute the probability that the top face will be 4 at least once on 20 rolls of the die?\n",
    "3. Create a simulation to compute how many rolls of the die would you have to do to be 90% confident that you would see at least one 4?\n",
    "4. Using the formula you have computed in problem 2 part 4, make a Python function that takes in the target value $p$ and outputs the required number of rolls of an integer. \n",
    "    1. Find the values for $p=0.95$ and $p=0.99$. \n",
    "    2. Use your simulation to verify that the number of rolls you specified is sufficient to achieve $p\\geq 0.95$."
   ]
  },
  {
   "cell_type": "code",
   "execution_count": 90,
   "metadata": {},
   "outputs": [],
   "source": [
    "import random\n",
    "import numpy as np\n",
    "import numpy.random as npr\n",
    "\n",
    "import matplotlib.pyplot as plt\n",
    "%matplotlib inline\n",
    "plt.style.use('ggplot')"
   ]
  },
  {
   "cell_type": "code",
   "execution_count": 34,
   "metadata": {},
   "outputs": [
    {
     "name": "stdout",
     "output_type": "stream",
     "text": [
      "Relative frequency of getting a 4 at least once on 4 rolls is  0.68359375\n"
     ]
    }
   ],
   "source": [
    "#Part 1\n",
    "num_sims = 4\n",
    "event_counter = 0\n",
    "\n",
    "for i in range(num_sims):\n",
    "    die = random.choice([1, 2, 3, 4])\n",
    "    if die == 4:\n",
    "        event_counter += 1\n",
    "roll_not = num_sims - event_counter\n",
    "p = 1 - pow((roll_not/num_sims), num_sims)\n",
    "print(\"Relative frequency of getting a 4 at least once on 4 rolls is \", p)"
   ]
  },
  {
   "cell_type": "code",
   "execution_count": 43,
   "metadata": {},
   "outputs": [
    {
     "name": "stdout",
     "output_type": "stream",
     "text": [
      "Relative frequency of getting a 4 at least once on 4 rolls is  0.9992020773370239\n"
     ]
    }
   ],
   "source": [
    "#Part 2\n",
    "num_sims = 20\n",
    "event_counter = 0\n",
    "\n",
    "for i in range(num_sims):\n",
    "    die = random.choice([1, 2, 3, 4])\n",
    "    if die == 4:\n",
    "        event_counter += 1\n",
    "roll_not = num_sims - event_counter\n",
    "p = 1 - pow((roll_not/num_sims), num_sims)\n",
    "print(\"Relative frequency of getting a 4 at least once on 4 rolls is \", p)"
   ]
  },
  {
   "cell_type": "code",
   "execution_count": 114,
   "metadata": {},
   "outputs": [
    {
     "name": "stdout",
     "output_type": "stream",
     "text": [
      "It took 9 rolls to be 90% confident you would roll \n"
     ]
    }
   ],
   "source": [
    "#Part 3\n",
    "event_counter = 0\n",
    "p=0\n",
    "\n",
    "while p < 0.9:\n",
    "    die = random.choice([1, 2, 3, 4])\n",
    "    p = 1 - pow((3/4), event_counter)\n",
    "    if die == 4:\n",
    "        event_counter += 1\n",
    "print(\"It took\", event_counter, \"rolls to be 90% confident you would roll atleast one 4\")"
   ]
  },
  {
   "cell_type": "code",
   "execution_count": 153,
   "metadata": {},
   "outputs": [
    {
     "name": "stdout",
     "output_type": "stream",
     "text": [
      "It took 11 rolls to be 95% confident you would roll atleast one 4\n",
      "Number of rolls = 11 therefore p =  0.9577648639678955\n",
      "One less role of the dice =  0.9436864852905273\n"
     ]
    }
   ],
   "source": [
    "#Part 4a (1/2)\n",
    "event_counter = 0\n",
    "p=0\n",
    "\n",
    "while p < 0.95:\n",
    "    die = random.choice([1, 2, 3, 4])\n",
    "    p = 1 - pow((3/4), event_counter)\n",
    "    if die == 4:\n",
    "        event_counter += 1\n",
    "print(\"It took\", event_counter, \"rolls to be 95% confident you would roll atleast one 4\")\n",
    "#Part 4b\n",
    "print(\"Number of rolls =\", event_counter, \"therefore p = \", p)\n",
    "event_counterx = event_counter -1\n",
    "px = (1 - pow((3/4), event_counterx))\n",
    "print(\"One less role of the dice = \", px)"
   ]
  },
  {
   "cell_type": "code",
   "execution_count": 154,
   "metadata": {},
   "outputs": [
    {
     "name": "stdout",
     "output_type": "stream",
     "text": [
      "It took 17 rolls to be 99% confident you would roll atleast one 4\n",
      "Number of rolls = 17 therefore p =  0.9924830531817861\n",
      "One less role of the dice =  0.9899774042423815\n"
     ]
    }
   ],
   "source": [
    "#Part 4a (2/2)\n",
    "event_counter = 0\n",
    "p=0\n",
    "\n",
    "while p < 0.99:\n",
    "    die = random.choice([1, 2, 3, 4])\n",
    "    p = 1 - pow((3/4), event_counter)\n",
    "    if die == 4:\n",
    "        event_counter += 1\n",
    "print(\"It took\", event_counter, \"rolls to be 99% confident you would roll atleast one 4\")\n",
    "#Part 4b\n",
    "print(\"Number of rolls =\", event_counter, \"therefore p = \", p)\n",
    "event_counterx = event_counter -1\n",
    "px = (1 - pow((3/4), event_counterx))\n",
    "print(\"One less role of the dice = \", px)"
   ]
  },
  {
   "cell_type": "markdown",
   "metadata": {},
   "source": [
    "## Problem 2\n",
    "\n",
    "Create a simulation function where you will roll a fair 6-sided die twice. Use simulation to find out the probability of getting a 4 or 6 on the first toss and a 1,2,3, or 5 on the second toss. "
   ]
  },
  {
   "cell_type": "code",
   "execution_count": 33,
   "metadata": {},
   "outputs": [
    {
     "name": "stdout",
     "output_type": "stream",
     "text": [
      "The probability of getting a 4 or 6 on the first roll is  0.31\n",
      "The probability of getting a 1,2,3 or 5 on the second toss is  0.59\n"
     ]
    }
   ],
   "source": [
    "num_sims = 100\n",
    "event_counter1 = 0\n",
    "event_counter2 = 0\n",
    "\n",
    "for i in range(num_sims):\n",
    "    die1 = random.choice([1, 2, 3, 4, 5, 6])\n",
    "    die2 = random.choice([1, 2, 3, 4, 5, 6])\n",
    "    if die1 == 4 or die1 == 6:\n",
    "        event_counter1 += 1\n",
    "    if die2 == 1 or die2 == 2 or die2 == 5 or die2 == 3:\n",
    "        event_counter2 += 1\n",
    "        \n",
    "print(\"The probability of getting a 4 or 6 on the first roll is \", event_counter1/num_sims)\n",
    "print(\"The probability of getting a 1,2,3 or 5 on the second toss is \", event_counter2/num_sims)"
   ]
  },
  {
   "cell_type": "markdown",
   "metadata": {},
   "source": [
    "## Problem 3\n",
    "\n",
    "Suppose that you have a bag with 3 coins. One of them is a fair coin, but the others are biased trick coins. When flipped, the three coins come up heads with probability $\\frac{1}{2}$, $\\frac{1}{4}$, and $\\frac{1}{6}$, respectively.\n",
    "\n",
    "Consider the experiment where you pick one coin at random and flip it three times. Let $H_i$ be the event that the coin comes up heads on flip $i$. What is the probability of the outcome $H_1\\cap H_2\\cap \\overline{H_3}$?\n",
    "\n",
    "With small modification in your code, find out the probability of the outcome $H_1\\cap \\overline{H_2} \\cap \\overline{H_3}$.\n",
    "\n",
    "Use simulation to find out the probability."
   ]
  },
  {
   "cell_type": "code",
   "execution_count": 51,
   "metadata": {},
   "outputs": [
    {
     "name": "stdout",
     "output_type": "stream",
     "text": [
      "The probability of the outcome HHT is  0.3055555555555555\n"
     ]
    }
   ],
   "source": [
    "#first coin = P(h) = 0.5 and P(t) = 0.5\n",
    "#second coin = P(h) = 0.25 and P(t) = 0.75\n",
    "#third coin = P(h) = 0.167 and P(t) = 0.833\n",
    "\n",
    "coinprob = [0.5, 0.25, 1/6]\n",
    "cpp = 1/3\n",
    "prob_hht = []\n",
    "\n",
    "for i in range(3):\n",
    "    i = int(random.choice(coinprob))\n",
    "    prob_hht.append(coinprob[i] * coinprob[i] * (1 - coinprob[i]))\n",
    "p = cpp * sum(coinprob)\n",
    "print(\"The probability of the outcome HHT is \", p)"
   ]
  },
  {
   "cell_type": "code",
   "execution_count": 54,
   "metadata": {},
   "outputs": [
    {
     "name": "stdout",
     "output_type": "stream",
     "text": [
      "The probability of the outcome HTT is  0.3055555555555555\n"
     ]
    }
   ],
   "source": [
    "coinprob = [0.5, 0.25, 1/6]\n",
    "cpp = 1/3\n",
    "prob_hht = []\n",
    "\n",
    "for i in range(3):\n",
    "    prob_hht.append(coinprob[i] * (1 - coinprob[i]) * (1 - coinprob[i]))\n",
    "p = cpp * sum(coinprob)\n",
    "print(\"The probability of the outcome HTT is \", p)"
   ]
  },
  {
   "cell_type": "markdown",
   "metadata": {},
   "source": [
    "# Submit Your Solutions\n",
    "\n",
    "Confirm that you've successfully completed the assignment.\n",
    "\n",
    "Along with the Notebook, include a PDF of the notebook with your solutions.\n",
    "\n",
    "```add``` and ```commit``` the final version of your work, and ```push``` your PDF file to your GitHub repository.\n",
    "\n",
    "Submit the URL of your GitHub Repository as your assignment submission on Canvas."
   ]
  }
 ],
 "metadata": {
  "kernelspec": {
   "display_name": "Python 3 (ipykernel)",
   "language": "python",
   "name": "python3"
  },
  "language_info": {
   "codemirror_mode": {
    "name": "ipython",
    "version": 3
   },
   "file_extension": ".py",
   "mimetype": "text/x-python",
   "name": "python",
   "nbconvert_exporter": "python",
   "pygments_lexer": "ipython3",
   "version": "3.11.5"
  },
  "latex_envs": {
   "LaTeX_envs_menu_present": true,
   "autoclose": false,
   "autocomplete": true,
   "bibliofile": "biblio.bib",
   "cite_by": "apalike",
   "current_citInitial": 1,
   "eqLabelWithNumbers": true,
   "eqNumInitial": 1,
   "hotkeys": {
    "equation": "Ctrl-E",
    "itemize": "Ctrl-I"
   },
   "labels_anchors": false,
   "latex_user_defs": false,
   "report_style_numbering": false,
   "user_envs_cfg": false
  },
  "varInspector": {
   "cols": {
    "lenName": 16,
    "lenType": 16,
    "lenVar": 40
   },
   "kernels_config": {
    "python": {
     "delete_cmd_postfix": "",
     "delete_cmd_prefix": "del ",
     "library": "var_list.py",
     "varRefreshCmd": "print(var_dic_list())"
    },
    "r": {
     "delete_cmd_postfix": ") ",
     "delete_cmd_prefix": "rm(",
     "library": "var_list.r",
     "varRefreshCmd": "cat(var_dic_list()) "
    }
   },
   "types_to_exclude": [
    "module",
    "function",
    "builtin_function_or_method",
    "instance",
    "_Feature"
   ],
   "window_display": false
  }
 },
 "nbformat": 4,
 "nbformat_minor": 4
}
